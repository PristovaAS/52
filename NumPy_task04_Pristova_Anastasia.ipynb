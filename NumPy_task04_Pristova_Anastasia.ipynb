{
 "cells": [
  {
   "cell_type": "code",
   "execution_count": 54,
   "id": "cc55ec4e",
   "metadata": {},
   "outputs": [],
   "source": [
    "import numpy as np"
   ]
  },
  {
   "cell_type": "code",
   "execution_count": 49,
   "id": "113670b8",
   "metadata": {},
   "outputs": [
    {
     "name": "stdout",
     "output_type": "stream",
     "text": [
      "Задача 1.  Выполнить оперции над матрицами:\n",
      "\n",
      " A=   \n",
      " [[ 1  2  1]\n",
      " [-2  1  1]] \n",
      "\n",
      " B=   \n",
      " [[ 3  1]\n",
      " [-1  0]\n",
      " [ 2  4]] \n",
      "\n",
      " C=   \n",
      " [[-2  2]\n",
      " [ 1 -1]\n",
      " [ 1  2]] \n",
      "\n",
      "Сложение (A+2*B) выполнить невозможно, поскольку матрицы разных размеров.\n",
      "\n",
      "После транспонирования матрица A имеет вид:\n",
      " [[ 1 -2]\n",
      " [ 2  1]\n",
      " [ 1  1]]\n",
      "Первое выражение A+2*B: \n",
      " [[7 0]\n",
      " [0 1]\n",
      " [5 9]] \n",
      "\n",
      "Второе выражение B+2*C: \n",
      " [[-1  5]\n",
      " [ 1 -2]\n",
      " [ 4  8]] \n",
      "\n"
     ]
    }
   ],
   "source": [
    "print(\"Задача 1.  Выполнить оперции над матрицами:\\n\")\n",
    "A = np.matrix([[1, 2, 1],\n",
    "               [-2, 1, 1]])\n",
    "B = np.matrix([[3, 1],\n",
    "               [-1, 0],\n",
    "               [2, 4]])\n",
    "C = np.matrix([[-2, 2],\n",
    "               [1, -1],\n",
    "               [1, 2]])\n",
    "print(f'{\"A=\":^5} \\n {A} \\n')\n",
    "print(f'{\"B=\":^5} \\n {B} \\n')\n",
    "print(f'{\"C=\":^5} \\n {C} \\n')\n",
    "print(\"Сложение (A+2*B) выполнить невозможно, поскольку матрицы разных размеров.\\n\")\n",
    "\n",
    "A = np.transpose(A).reshape(3,2)\n",
    "print(\"После транспонирования матрица A имеет вид:\\n\", A, \\n')\n",
    "print(f'{\"Первое выражение A+2*B:\":^5} \\n {A+2*B} \\n')\n",
    "print(f'{\"Второе выражение B+2*C:\":^5} \\n {B+2*C} \\n')"
   ]
  },
  {
   "cell_type": "code",
   "execution_count": 50,
   "id": "6992f4a2",
   "metadata": {},
   "outputs": [
    {
     "name": "stdout",
     "output_type": "stream",
     "text": [
      "Задача 2:  Создать матрицу размером 8х8 элементов, состоящую из нулей.\n",
      "\n",
      "matrix_01:\n",
      " [[0 1 0 1 0 1 0 1]\n",
      " [1 0 1 0 1 0 1 0]\n",
      " [0 1 0 1 0 1 0 1]\n",
      " [1 0 1 0 1 0 1 0]\n",
      " [0 1 0 1 0 1 0 1]\n",
      " [1 0 1 0 1 0 1 0]\n",
      " [0 1 0 1 0 1 0 1]\n",
      " [1 0 1 0 1 0 1 0]]\n"
     ]
    }
   ],
   "source": [
    "print(\"Задача 2:  Создать матрицу размером 8х8 элементов, состоящую из нулей.\\n\")\n",
    "matrix_01 = np.zeros((8,8), dtype = int)\n",
    "matrix_01[1::2, ::2] = 1\n",
    "matrix_01[::2, 1::2] = 1\n",
    "print(\"matrix_01:\\n\", matrix_01)"
   ]
  },
  {
   "cell_type": "code",
   "execution_count": 65,
   "id": "0410a54e",
   "metadata": {},
   "outputs": [
    {
     "name": "stdout",
     "output_type": "stream",
     "text": [
      "Задача 3: Сформировать два вектора.\n",
      "\n",
      "Вектор 1 имеет вид: \n",
      " [0.  0.1 0.2 0.3 0.4 0.5 0.6 0.7 0.8 0.9 1.  1.1 1.2 1.3 1.4] \n",
      "\n",
      "Вектор 2 имеет вид: \n",
      " [1 2 3 4 5 6] \n",
      "\n",
      "matrix_01: \n",
      " [[0.  0.1 0.2]\n",
      " [0.3 0.4 0.5]\n",
      " [0.6 0.7 0.8]\n",
      " [0.9 1.  1.1]\n",
      " [1.2 1.3 1.4]] \n",
      "\n",
      "matrix_02: \n",
      " [[1 2]\n",
      " [3 4]\n",
      " [5 6]] \n",
      "\n",
      "Произведение matrix_01*matrix_02 нельзя найти, поскольку число столбцов матрицы matrix_01 не равно числу строк matrix_02.\n",
      "\n",
      "matrix_03: \n",
      " [[0 0 0]\n",
      " [0 0 0]\n",
      " [0 0 0]] \n",
      "\n",
      "matrix_04: \n",
      " [[1 2 0 0 0]\n",
      " [3 4 0 0 0]\n",
      " [5 6 0 0 0]] \n",
      "\n",
      "Произведение matrix_01, matrix_04: \n",
      " [[ 1.3  1.6  0.   0.   0. ]\n",
      " [ 4.   5.2  0.   0.   0. ]\n",
      " [ 6.7  8.8  0.   0.   0. ]\n",
      " [ 9.4 12.4  0.   0.   0. ]\n",
      " [12.1 16.   0.   0.   0. ]] \n",
      "\n",
      "matrix_06: \n",
      " [[ 1.3  1.6]\n",
      " [ 4.   5.2]\n",
      " [ 6.7  8.8]\n",
      " [ 9.4 12.4]\n",
      " [12.1 16. ]] \n",
      "\n"
     ]
    }
   ],
   "source": [
    "print(\"Задача 3: Сформировать два вектора.\\n\")\n",
    "\n",
    "vec01 = np.arange(0, 1.5, 0.1, dtype = float)\n",
    "vec02 = np.arange(1, 7, 1)\n",
    "print(f'{\"Вектор 1 имеет вид:\":^5} \\n {vec01} \\n')\n",
    "print(f'{\"Вектор 2 имеет вид:\":^5} \\n {vec02} \\n')\n",
    "\n",
    "matrix_01 = vec01.reshape(5,3)\n",
    "matrix_02 = vec02.reshape(3, 2)\n",
    "print(f'{\"matrix_01:\":^5} \\n {matrix_01} \\n')\n",
    "print(f'{\"matrix_02:\":^5} \\n {matrix_02} \\n')\n",
    "print(\"Произведение matrix_01*matrix_02 нельзя найти, поскольку число столбцов матрицы matrix_01 не равно числу строк matrix_02.\\n\")\n",
    "\n",
    "matrix_03 = np.zeros((3,3), dtype = int)\n",
    "matrix_04 = np.hstack((matrix_02, matrix_03))\n",
    "matrix_05 = np.dot(matrix_01, matrix_04)\n",
    "print(\"matrix_03: \\n\", matrix_03, \"\\n\")\n",
    "print(\"matrix_04: \\n\", matrix_04, \"\\n\")\n",
    "print(\"Произведение matrix_01, matrix_04: \\n\", matrix_05, \"\\n\")\n",
    "\n",
    "\n",
    "matrix_06 = np.delete(matrix_05, np.s_[2:], 1)\n",
    "print(\"matrix_06: \\n\", matrix_06, \"\\n\")"
   ]
  },
  {
   "cell_type": "code",
   "execution_count": 67,
   "id": "2af162c5",
   "metadata": {},
   "outputs": [
    {
     "name": "stdout",
     "output_type": "stream",
     "text": [
      "Задача 4: Сформировать вектор из целых чисел размерностью 36.\n",
      "\n",
      "Верктор размерносью 36: \n",
      " [ 1  3  5  7  9 11 13 15 17 19 21 23 25 27 29 31 33 35] \n",
      "\n",
      "Вектор с элементами кратные 3: \n",
      " [3, 9, 15, 21, 27, 33]\n"
     ]
    }
   ],
   "source": [
    "print(\"Задача 4: Сформировать вектор из целых чисел размерностью 36.\\n\")\n",
    "\n",
    "vec05 = np.arange(1, 36 , 2, dtype='int32')\n",
    "vec06 = [i for i in vec05 if i%3==0]\n",
    "print(\"Верктор размерносью 36: \\n\", vec05, \"\\n\")\n",
    "print(\"Вектор с элементами кратные 3: \\n\", vec06)"
   ]
  }
 ],
 "metadata": {
  "kernelspec": {
   "display_name": "Python 3 (ipykernel)",
   "language": "python",
   "name": "python3"
  },
  "language_info": {
   "codemirror_mode": {
    "name": "ipython",
    "version": 3
   },
   "file_extension": ".py",
   "mimetype": "text/x-python",
   "name": "python",
   "nbconvert_exporter": "python",
   "pygments_lexer": "ipython3",
   "version": "3.10.9"
  }
 },
 "nbformat": 4,
 "nbformat_minor": 5
}
