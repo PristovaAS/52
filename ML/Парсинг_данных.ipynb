{
  "nbformat": 4,
  "nbformat_minor": 0,
  "metadata": {
    "colab": {
      "provenance": [],
      "mount_file_id": "1EAu9VLk57xmZg2s18oXW3nE8O95innYW",
      "authorship_tag": "ABX9TyMdSxpqRnT+YiMdqYsNPtFh",
      "include_colab_link": true
    },
    "kernelspec": {
      "name": "python3",
      "display_name": "Python 3"
    },
    "language_info": {
      "name": "python"
    }
  },
  "cells": [
    {
      "cell_type": "markdown",
      "metadata": {
        "id": "view-in-github",
        "colab_type": "text"
      },
      "source": [
        "<a href=\"https://colab.research.google.com/github/PristovaAS/Innopolis/blob/main/ML/%D0%9F%D0%B0%D1%80%D1%81%D0%B8%D0%BD%D0%B3_%D0%B4%D0%B0%D0%BD%D0%BD%D1%8B%D1%85.ipynb\" target=\"_parent\"><img src=\"https://colab.research.google.com/assets/colab-badge.svg\" alt=\"Open In Colab\"/></a>"
      ]
    },
    {
      "cell_type": "code",
      "source": [
        "!pip install beautifulsoup4"
      ],
      "metadata": {
        "colab": {
          "base_uri": "https://localhost:8080/"
        },
        "id": "hAfZOcXrExkK",
        "outputId": "ee6b543c-b29c-4ad5-d5e9-69ddd53691b0"
      },
      "execution_count": 1,
      "outputs": [
        {
          "output_type": "stream",
          "name": "stdout",
          "text": [
            "Requirement already satisfied: beautifulsoup4 in /usr/local/lib/python3.10/dist-packages (4.11.2)\n",
            "Requirement already satisfied: soupsieve>1.2 in /usr/local/lib/python3.10/dist-packages (from beautifulsoup4) (2.5)\n"
          ]
        }
      ]
    },
    {
      "cell_type": "code",
      "execution_count": 2,
      "metadata": {
        "id": "eU5tO8UKESUR"
      },
      "outputs": [],
      "source": [
        "import requests\n",
        "from bs4 import BeautifulSoup as bs"
      ]
    },
    {
      "cell_type": "code",
      "source": [
        "URL_TEMPLATE = \"https://meteoinfo.ru/forecasts/russia/republic-tatarstan\"\n",
        "r = requests.get(URL_TEMPLATE)\n",
        "print(r.status_code)"
      ],
      "metadata": {
        "colab": {
          "base_uri": "https://localhost:8080/"
        },
        "id": "Kem3K3-rFsJd",
        "outputId": "a99ec6df-247b-449d-a33d-9704cbe13ce2"
      },
      "execution_count": 3,
      "outputs": [
        {
          "output_type": "stream",
          "name": "stdout",
          "text": [
            "200\n"
          ]
        }
      ]
    },
    {
      "cell_type": "code",
      "source": [
        "soup = bs(r.text, \"html.parser\")\n",
        "citys = soup.find_all('option')"
      ],
      "metadata": {
        "id": "irXUg0_IH27N"
      },
      "execution_count": 4,
      "outputs": []
    },
    {
      "cell_type": "code",
      "source": [
        "city_keys = {}\n",
        "for city in citys:\n",
        "  if 'republic-tatarstan' in str(city):\n",
        "    data = {}\n",
        "    d = []\n",
        "    temp_d = []\n",
        "    temp_n = []\n",
        "    precip_d = []\n",
        "    precip_n = []\n",
        "    pres_d = []\n",
        "    pres_n = []\n",
        "    name = city.text\n",
        "    link = str(city.get('value')).replace('russia/republic-tatarstan', '')\n",
        "    r = requests.get(URL_TEMPLATE + link)\n",
        "    soup_1 = bs(r.text, \"html.parser\")\n",
        "    weather_table = soup_1.find_all(\"td\", class_='td_short_gr')\n",
        "    for weather in weather_table:\n",
        "      if '<td class=\"td_short_gr\">' in str(weather):\n",
        "        d.append(str(weather).split('nobr>')[1].replace('</', ''))\n",
        "      elif '<td bgcolor=\"#f7f6f5\" class=\"td_short_gr\" valign=\"top\"><span>' in str(weather):\n",
        "        temp_d.append(str(weather).split('span>')[1].replace('</', ''))\n",
        "      elif '<td bgcolor=\"#D3D3D3\" class=\"td_short_gr\" valign=\"top\"><div class=\"sdvig_div\"><span>' in str(weather):\n",
        "        temp_n.append(str(weather).split('span>')[1].replace('</', ''))\n",
        "      elif '<td bgcolor=\"#f7f6f5\" class=\"td_short_gr\" valign=\"top\"><div class=\"fc_small_gorizont_ww\"> <nobr>' in str(weather):\n",
        "        precip_d.append(str(weather).split('nobr>')[1].replace('</', ''))\n",
        "      elif '<td bgcolor=\"#f7f6f5\" class=\"td_short_gr\" valign=\"top\"><div class=\"fc_small_gorizont_ww\">7' in str(weather):\n",
        "        pres_d.append(str(weather).split('>')[2].replace('</div', ''))\n",
        "      elif '<td bgcolor=\"#D3D3D3\" class=\"td_short_gr\" valign=\"top\"><div class=\"fc_small_gorizont_ww sdvig_div\"> <nobr>' in str(weather):\n",
        "        precip_n.append(str(weather).split('nobr>')[1].replace('</', ''))\n",
        "      elif '<td bgcolor=\"#D3D3D3\" class=\"td_short_gr\" valign=\"top\"><div class=\"fc_small_gorizont_ww sdvig_div\">7' in str(weather):\n",
        "        pres_n.append(str(weather).split('>')[2].replace('</div', ''))\n",
        "    for i in range(len(d)-1):\n",
        "      info = []\n",
        "      info.append((str(temp_d[i]) + '/' + str(temp_n[i])))\n",
        "      info.append((str(precip_d[i]) + '/' + str(precip_n[i])))\n",
        "      info.append((str(pres_d[i]) + '/' + str(pres_n[i])))\n",
        "      data[d[i]] = info\n",
        "    city_keys[name] = info\n",
        "print('Done')"
      ],
      "metadata": {
        "colab": {
          "base_uri": "https://localhost:8080/"
        },
        "id": "ybKmUcMORehu",
        "outputId": "3fdd7584-9020-4c31-bf48-88523b537f05"
      },
      "execution_count": 5,
      "outputs": [
        {
          "output_type": "stream",
          "name": "stdout",
          "text": [
            "Done\n"
          ]
        }
      ]
    },
    {
      "cell_type": "code",
      "source": [
        "print(city_keys)"
      ],
      "metadata": {
        "colab": {
          "base_uri": "https://localhost:8080/"
        },
        "id": "LJ6PuTpWiRsY",
        "outputId": "a123d516-7d87-4129-e156-a54fe8b9621b"
      },
      "execution_count": 6,
      "outputs": [
        {
          "output_type": "stream",
          "name": "stdout",
          "text": [
            "{'Татарстан республика': ['-1°/-3°', '10.6/4.9', '746/740'], 'Большие Кайбицы': ['0°/-4°', '8.5/3.3', '743/739'], 'Бугульма': ['1°/-1°', '1.5/1.1', '730/724'], 'Елабуга': ['0°/-2°', '6.1/4', '751/744'], 'Казань': ['-1°/-3°', '10.6/4.9', '746/740'], 'Лаишево': ['-1°/-3°', '12.3/5.7', '746/740'], 'Муслюмово I': ['1°/-1°', '3.1/0.6', '752/746'], 'Набережные Челны': ['0°/-2°', '6.1/4', '751/744'], 'Тетюши': ['0°/-3°', '11.6/4', '741/736'], 'Чистополь': ['0°/-2°', '5.5/8.2', '740/735'], 'Чулпаново': ['1°/-2°', '5.6/8.1', '749/744']}\n"
          ]
        }
      ]
    },
    {
      "cell_type": "markdown",
      "source": [
        "![image.png](data:image/png;base64,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)"
      ],
      "metadata": {
        "id": "uNSMUJHxtTXX"
      }
    }
  ]
}